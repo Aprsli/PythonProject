{
 "cells": [
  {
   "cell_type": "code",
   "execution_count": 1,
   "metadata": {},
   "outputs": [],
   "source": [
    "import torch\n",
    "from torch import nn\n",
    "from torchvision import datasets\n",
    "from torch.utils import data\n",
    "from torchvision import transforms\n",
    "from torchsummary import summary"
   ]
  },
  {
   "cell_type": "code",
   "execution_count": 2,
   "metadata": {},
   "outputs": [],
   "source": [
    "class DenseBlock(nn.Module):\n",
    "    def __init__(self, num, inchannel, outchannel):\n",
    "        super().__init__()\n",
    "        self.block = nn.Sequential()\n",
    "        for i in range(num):\n",
    "            self.block.add_module(f\"convblock{i}\", self.convblock(inchannel + i * outchannel, outchannel))\n",
    "\n",
    "    def convblock(self, inchannel, outchannel):\n",
    "        return nn.Sequential(\n",
    "            nn.BatchNorm2d(inchannel),\n",
    "            nn.ReLU(),\n",
    "            nn.Conv2d(inchannel, outchannel, 3, padding=1),\n",
    "        )\n",
    "\n",
    "    def forward(self, x):\n",
    "        for layers in self.block:\n",
    "            y = layers(x)\n",
    "            x = torch.cat((x ,y), dim=1)\n",
    "        return x"
   ]
  },
  {
   "cell_type": "code",
   "execution_count": 3,
   "metadata": {},
   "outputs": [
    {
     "data": {
      "text/plain": [
       "torch.Size([2, 23, 5, 5])"
      ]
     },
     "execution_count": 3,
     "metadata": {},
     "output_type": "execute_result"
    }
   ],
   "source": [
    "temp = torch.rand(2, 3, 5, 5)\n",
    "net = DenseBlock(2, 3, 10)\n",
    "net(temp).shape"
   ]
  },
  {
   "cell_type": "code",
   "execution_count": 5,
   "metadata": {},
   "outputs": [
    {
     "name": "stdout",
     "output_type": "stream",
     "text": [
      "----------------------------------------------------------------\n",
      "        Layer (type)               Output Shape         Param #\n",
      "================================================================\n",
      "       BatchNorm2d-1              [-1, 3, 5, 5]               6\n",
      "              ReLU-2              [-1, 3, 5, 5]               0\n",
      "            Conv2d-3             [-1, 10, 5, 5]             280\n",
      "       BatchNorm2d-4             [-1, 13, 5, 5]              26\n",
      "              ReLU-5             [-1, 13, 5, 5]               0\n",
      "            Conv2d-6             [-1, 10, 5, 5]           1,180\n",
      "================================================================\n",
      "Total params: 1,492\n",
      "Trainable params: 1,492\n",
      "Non-trainable params: 0\n",
      "----------------------------------------------------------------\n",
      "Input size (MB): 0.00\n",
      "Forward/backward pass size (MB): 0.01\n",
      "Params size (MB): 0.01\n",
      "Estimated Total Size (MB): 0.02\n",
      "----------------------------------------------------------------\n"
     ]
    }
   ],
   "source": [
    "summary(net, (3, 5, 5), device=\"cpu\")"
   ]
  }
 ],
 "metadata": {
  "interpreter": {
   "hash": "37b255bb5dc0d995b91bd1b934b878e610a26475f52eafaf29fdb395fb105534"
  },
  "kernelspec": {
   "display_name": "Python 3.8.12 64-bit ('base': conda)",
   "name": "python3"
  },
  "language_info": {
   "codemirror_mode": {
    "name": "ipython",
    "version": 3
   },
   "file_extension": ".py",
   "mimetype": "text/x-python",
   "name": "python",
   "nbconvert_exporter": "python",
   "pygments_lexer": "ipython3",
   "version": "3.8.12"
  },
  "orig_nbformat": 4
 },
 "nbformat": 4,
 "nbformat_minor": 2
}
