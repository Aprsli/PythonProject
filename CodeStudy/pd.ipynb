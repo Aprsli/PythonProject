{
 "cells": [
  {
   "cell_type": "code",
   "execution_count": 1,
   "metadata": {},
   "outputs": [],
   "source": [
    "import pandas as pd\n",
    "import numpy as np\n",
    "from faker import Faker\n",
    "import random"
   ]
  },
  {
   "cell_type": "code",
   "execution_count": 12,
   "metadata": {},
   "outputs": [
    {
     "data": {
      "text/plain": [
       "[0, 1, 2, 3, 4, 5, 6, 7, 8, 9]"
      ]
     },
     "execution_count": 12,
     "metadata": {},
     "output_type": "execute_result"
    }
   ],
   "source": [
    "a = range(10)\n",
    "c = sum((1 for _ in a))\n",
    "list(a)"
   ]
  },
  {
   "cell_type": "code",
   "execution_count": 5,
   "metadata": {},
   "outputs": [
    {
     "name": "stdout",
     "output_type": "stream",
     "text": [
      "7\n"
     ]
    }
   ],
   "source": [
    "def func():\n",
    "    # a = 3\n",
    "    print(a+1)\n",
    "\n",
    "if __name__ == '__main__':\n",
    "    a = 6\n",
    "    func()"
   ]
  },
  {
   "cell_type": "code",
   "execution_count": 2,
   "metadata": {},
   "outputs": [],
   "source": [
    "random.seed(5)\n",
    "a = list(range(10))\n",
    "b = list(range(10))\n",
    "random.shuffle(a)\n",
    "random.shuffle(b)"
   ]
  },
  {
   "cell_type": "code",
   "execution_count": 9,
   "metadata": {},
   "outputs": [
    {
     "data": {
      "text/plain": [
       "[<faker.providers.user_agent.Provider at 0x22faa04ea00>,\n",
       " <faker.providers.ssn.en_US.Provider at 0x22faa04e1c0>,\n",
       " <faker.providers.python.Provider at 0x22faa04ea30>,\n",
       " <faker.providers.profile.Provider at 0x22faa04eee0>,\n",
       " <faker.providers.phone_number.en_US.Provider at 0x22faa04e0d0>,\n",
       " <faker.providers.person.en_US.Provider at 0x22faa04e8e0>,\n",
       " <faker.providers.misc.en_US.Provider at 0x22faa04e070>,\n",
       " <faker.providers.lorem.en_US.Provider at 0x22faa04e430>,\n",
       " <faker.providers.job.en_US.Provider at 0x22faa04ef40>,\n",
       " <faker.providers.isbn.Provider at 0x22faa04ec40>,\n",
       " <faker.providers.internet.en_US.Provider at 0x22faa04edc0>,\n",
       " <faker.providers.geo.en_US.Provider at 0x22faa04eaf0>,\n",
       " <faker.providers.file.Provider at 0x22faa04e970>,\n",
       " <faker.providers.date_time.en_US.Provider at 0x22faa04e9d0>,\n",
       " <faker.providers.currency.en_US.Provider at 0x22faa04e910>,\n",
       " <faker.providers.credit_card.en_US.Provider at 0x22faa04e520>,\n",
       " <faker.providers.company.en_US.Provider at 0x22faa04e730>,\n",
       " <faker.providers.color.en_US.Provider at 0x22faa04e850>,\n",
       " <faker.providers.barcode.en_US.Provider at 0x22faa04da60>,\n",
       " <faker.providers.bank.en_GB.Provider at 0x22faa04d610>,\n",
       " <faker.providers.automotive.en_US.Provider at 0x22faa01f9a0>,\n",
       " <faker.providers.address.en_US.Provider at 0x22faa01fbb0>]"
      ]
     },
     "execution_count": 9,
     "metadata": {},
     "output_type": "execute_result"
    }
   ],
   "source": [
    "fake = Faker()\n",
    "fake.providers"
   ]
  },
  {
   "cell_type": "code",
   "execution_count": 29,
   "metadata": {},
   "outputs": [
    {
     "data": {
      "text/html": [
       "<div>\n",
       "<style scoped>\n",
       "    .dataframe tbody tr th:only-of-type {\n",
       "        vertical-align: middle;\n",
       "    }\n",
       "\n",
       "    .dataframe tbody tr th {\n",
       "        vertical-align: top;\n",
       "    }\n",
       "\n",
       "    .dataframe thead th {\n",
       "        text-align: right;\n",
       "    }\n",
       "</style>\n",
       "<table border=\"1\" class=\"dataframe\">\n",
       "  <thead>\n",
       "    <tr style=\"text-align: right;\">\n",
       "      <th>name</th>\n",
       "      <th>li</th>\n",
       "      <th>wang</th>\n",
       "    </tr>\n",
       "  </thead>\n",
       "  <tbody>\n",
       "    <tr>\n",
       "      <th>e</th>\n",
       "      <td>24.0</td>\n",
       "      <td>30.0</td>\n",
       "    </tr>\n",
       "    <tr>\n",
       "      <th>f</th>\n",
       "      <td>27.0</td>\n",
       "      <td>31.0</td>\n",
       "    </tr>\n",
       "    <tr>\n",
       "      <th>g</th>\n",
       "      <td>32.0</td>\n",
       "      <td>19.0</td>\n",
       "    </tr>\n",
       "    <tr>\n",
       "      <th>h</th>\n",
       "      <td>NaN</td>\n",
       "      <td>35.0</td>\n",
       "    </tr>\n",
       "  </tbody>\n",
       "</table>\n",
       "</div>"
      ],
      "text/plain": [
       "name    li  wang\n",
       "e     24.0  30.0\n",
       "f     27.0  31.0\n",
       "g     32.0  19.0\n",
       "h      NaN  35.0"
      ]
     },
     "execution_count": 29,
     "metadata": {},
     "output_type": "execute_result"
    }
   ],
   "source": [
    "df = pd.DataFrame({\"li\":{\"a\":12, \"b\":15, \"c\":20}, \"wang\":{\"a\":15, \"b\":16, \"c\":4, \"d\":20}})\n",
    "df.index.name=\"num\"\n",
    "df.columns.name=\"name\"\n",
    "df.index = [\"e\", \"f\", \"g\", \"h\"]\n",
    "df + df.iloc[0]"
   ]
  }
 ],
 "metadata": {
  "interpreter": {
   "hash": "3860d6e0d0be45158f67b7497cd86fa5fc648422f0e508ab3756a6a3a2719315"
  },
  "kernelspec": {
   "display_name": "Python 3.8.12 ('pytorch')",
   "language": "python",
   "name": "python3"
  },
  "language_info": {
   "codemirror_mode": {
    "name": "ipython",
    "version": 3
   },
   "file_extension": ".py",
   "mimetype": "text/x-python",
   "name": "python",
   "nbconvert_exporter": "python",
   "pygments_lexer": "ipython3",
   "version": "3.9.7"
  },
  "orig_nbformat": 4
 },
 "nbformat": 4,
 "nbformat_minor": 2
}
