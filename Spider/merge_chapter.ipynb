{
 "cells": [
  {
   "cell_type": "code",
   "execution_count": 1,
   "metadata": {},
   "outputs": [],
   "source": [
    "import re\n",
    "from pathlib import Path"
   ]
  },
  {
   "cell_type": "code",
   "execution_count": 2,
   "metadata": {},
   "outputs": [],
   "source": [
    "dir = Path('./download')\n",
    "filenames = [f.name for f in dir.glob('*.txt')]\n",
    "pattern = re.compile(r'.*?第?(?P<chapter>\\d+|[零一二三四五六七八九十百千]+)章.*?txt', re.S)\n",
    "dic = dict()"
   ]
  },
  {
   "cell_type": "code",
   "execution_count": 3,
   "metadata": {},
   "outputs": [
    {
     "data": {
      "text/plain": [
       "{'完本感言，另，新书5月1日见.txt',\n",
       " '我的新书《深空彼岸》上传了.txt',\n",
       " '新番外 那个人，新书5月1日见.txt',\n",
       " '月初求下月票啦，长假快乐.txt',\n",
       " '楚风是地球的，呼唤下月票.txt',\n",
       " '第二次结局圆满了，新书5月1日见.txt',\n",
       " '终章 第二次大结局！新书5月1日见.txt',\n",
       " '结束于10月.txt'}"
      ]
     },
     "execution_count": 3,
     "metadata": {},
     "output_type": "execute_result"
    }
   ],
   "source": [
    "for name in filenames:\n",
    "    for it in pattern.finditer(name):\n",
    "        value = it.group('chapter')\n",
    "        if value is not None:\n",
    "            dic[name] = value\n",
    "\n",
    "set(dic.keys()) ^ set(filenames)  # 异或计算集合差异"
   ]
  },
  {
   "cell_type": "code",
   "execution_count": 4,
   "metadata": {},
   "outputs": [],
   "source": [
    "def transfer(cn):\n",
    "    cndig = {'零':0, '一':1, '二':2, '三':3, '四':4, '五':5, '六':6, '七':7, '八':8, '九':9}\n",
    "    cnunit = {'十':10, '百':100, '千':1000}\n",
    "    val = list()\n",
    "    unit = 0\n",
    "    for i in cn[::-1]:\n",
    "        if i in cnunit:\n",
    "            unit = cnunit.get(i)\n",
    "        if i in cndig:\n",
    "            dig = cndig.get(i)\n",
    "            if unit:\n",
    "                dig *= unit\n",
    "                unit = 0\n",
    "            val.append(dig)\n",
    "    if unit == 10:val.append(10)\n",
    "    return sum(val)\n"
   ]
  },
  {
   "cell_type": "code",
   "execution_count": 5,
   "metadata": {},
   "outputs": [],
   "source": [
    "for key, value in dic.items():\n",
    "    if not value.isdigit():\n",
    "        dic[key] = transfer(value)\n",
    "    else:\n",
    "        dic[key] = int(value)"
   ]
  },
  {
   "cell_type": "code",
   "execution_count": 6,
   "metadata": {},
   "outputs": [],
   "source": [
    "titles = sorted(dic.items(), key=lambda x:x[1])\n",
    "with open('./圣墟.txt', 'ab') as f:\n",
    "    for title in titles:\n",
    "        text = Path(f'./download/{title[0]}').read_bytes()\n",
    "        f.writelines([text, '\\n\\n'.encode('gbk')])"
   ]
  }
 ],
 "metadata": {
  "interpreter": {
   "hash": "37b255bb5dc0d995b91bd1b934b878e610a26475f52eafaf29fdb395fb105534"
  },
  "kernelspec": {
   "display_name": "Python 3.9.7 ('base')",
   "language": "python",
   "name": "python3"
  },
  "language_info": {
   "codemirror_mode": {
    "name": "ipython",
    "version": 3
   },
   "file_extension": ".py",
   "mimetype": "text/x-python",
   "name": "python",
   "nbconvert_exporter": "python",
   "pygments_lexer": "ipython3",
   "version": "3.9.7"
  },
  "orig_nbformat": 4
 },
 "nbformat": 4,
 "nbformat_minor": 2
}
